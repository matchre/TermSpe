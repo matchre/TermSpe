{
  "cells": [
    {
      "cell_type": "code",
      "source": [
        "!pip install tutormagic\n"
      ],
      "outputs": [],
      "execution_count": null,
      "metadata": {
        "collapsed": true,
        "jupyter": {
          "source_hidden": false,
          "outputs_hidden": false
        },
        "nteract": {
          "transient": {
            "deleting": false
          }
        },
        "execution": {
          "iopub.status.busy": "2020-08-27T13:13:48.476Z",
          "iopub.execute_input": "2020-08-27T13:13:48.495Z",
          "iopub.status.idle": "2020-08-27T13:14:05.441Z",
          "shell.execute_reply": "2020-08-27T13:14:05.655Z"
        }
      }
    },
    {
      "cell_type": "code",
      "source": [
        "%load_ext tutormagic"
      ],
      "outputs": [
        {
          "output_type": "stream",
          "name": "stdout",
          "text": [
            "The tutormagic extension is already loaded. To reload it, use:\n",
            "  %reload_ext tutormagic\n"
          ]
        }
      ],
      "execution_count": 4,
      "metadata": {
        "collapsed": true,
        "jupyter": {
          "source_hidden": false,
          "outputs_hidden": false
        },
        "nteract": {
          "transient": {
            "deleting": false
          }
        },
        "execution": {
          "iopub.status.busy": "2020-08-27T13:14:34.700Z",
          "iopub.execute_input": "2020-08-27T13:14:34.713Z",
          "iopub.status.idle": "2020-08-27T13:14:34.729Z",
          "shell.execute_reply": "2020-08-27T13:14:34.735Z"
        }
      }
    },
    {
      "cell_type": "code",
      "source": [
        "%%tutor\n",
        "u=3\n",
        "n=0\n",
        "for i in range(10):\n",
        "  u=2*u+1\n",
        "  n=n+1"
      ],
      "outputs": [
        {
          "output_type": "display_data",
          "data": {
            "text/plain": "<IPython.lib.display.IFrame at 0x1e4c62d2860>",
            "text/html": "\n        <iframe\n            width=\"100%\"\n            height=\"350\"\n            src=\"http://pythontutor.com/iframe-embed.html#code=u%3D3%0An%3D0%0Afor%20i%20in%20range%2810%29%3A%0A%20%20u%3D2%2Au%2B1%0A%20%20n%3Dn%2B1%0A&origin=opt-frontend.js&cumulative=false&heapPrimitives=false&textReferences=false&curInstr=0&&verticalStack=false&py=3&rawInputLstJSON=%5B%5D&codeDivWidth=50%25&codeDivHeight=100%25\"\n            frameborder=\"0\"\n            allowfullscreen\n        ></iframe>\n        "
          },
          "metadata": {}
        }
      ],
      "execution_count": 6,
      "metadata": {
        "collapsed": true,
        "jupyter": {
          "source_hidden": false,
          "outputs_hidden": false
        },
        "nteract": {
          "transient": {
            "deleting": false
          }
        },
        "execution": {
          "iopub.status.busy": "2020-08-27T13:16:30.277Z",
          "iopub.execute_input": "2020-08-27T13:16:30.292Z",
          "iopub.status.idle": "2020-08-27T13:16:30.374Z",
          "shell.execute_reply": "2020-08-27T13:16:30.397Z"
        }
      }
    }
  ],
  "metadata": {
    "kernel_info": {
      "name": "python3"
    },
    "language_info": {
      "name": "python",
      "version": "3.7.0",
      "mimetype": "text/x-python",
      "codemirror_mode": {
        "name": "ipython",
        "version": 3
      },
      "pygments_lexer": "ipython3",
      "nbconvert_exporter": "python",
      "file_extension": ".py"
    },
    "kernelspec": {
      "argv": [
        "python",
        "-m",
        "ipykernel_launcher",
        "-f",
        "{connection_file}"
      ],
      "display_name": "Python 3",
      "language": "python",
      "name": "python3"
    },
    "nteract": {
      "version": "0.24.1"
    }
  },
  "nbformat": 4,
  "nbformat_minor": 0
}