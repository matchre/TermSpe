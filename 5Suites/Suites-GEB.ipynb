{
 "cells": [
  {
   "cell_type": "markdown",
   "metadata": {},
   "source": [
    "**L’auto-référence**\n",
    "> René Magritte, artiste peintre belge, est célèbre pour une série d’œuvres, connue comme étant *Ceci n’est pas une pipe*.\n",
    "\n",
    "<img src=\"assets/pipe.jpg\" title=\"La Trahison des images, 1928\" style=\"height: 200px;\"/><img src=\"assets/pipe2.jpg\" title=\"Les Deux Mystères, 1966\" style=\"height: 200px;\"/>\n"
   ]
  },
  {
   "cell_type": "markdown",
   "metadata": {},
   "source": [
    "# Quelques suites numériques utilisant l'auto-référence\n",
    "\n",
    "[Douglas Hofstadter](https://fr.wikipedia.org/wiki/Douglas_Hofstadter) est l'auteur du livre [Gödel, Escher, Bach : Les Brins d'une Guirlande Éternelle](https://fr.wikipedia.org/wiki/G%C3%B6del,_Escher,_Bach_:_Les_Brins_d%27une_Guirlande_%C3%89ternelle).\n",
    "\n",
    "On y trouve en particulier certaines suites étonnantes.\n",
    "1. Produire un code pour calculer les premiers termes.\n",
    "2. Tracer une représentation graphique de ces suites."
   ]
  },
  {
   "cell_type": "markdown",
   "metadata": {},
   "source": [
    "## 1] Hofstadter Q-sequence\n",
    "\n",
    "Cette suite ressemble à celle de Fibonacci ou de Lucas, chaque terme est la somme de deux termes presque précédents.\n",
    "\n",
    "La suite $a$ est définie par :\n",
    "* $a_1 = a_2 = 1$,\n",
    "* $a_n = a_{n-a_{n-1}} + a_{n-a_{n-2}}$, pour $n \\geqslant 3$.\n",
    "\n",
    "Personne n'a prouvé que cette suite est bien définie pour tout $n\\in\\mathbb N^*$.\n",
    "\n",
    "On ne connaît pas son taux de croissance.\n",
    "\n",
    "> Écrire un code qui calcule les termes succéssifs en vérifiant que chacun est bien défini.\n",
    "\n",
    "$a = (1, 1, 2, 3, 3, 4, 5, 5, 6, 6, 6, 8, 8, 8, 10, 9, \\cdots)$ ; suite http://oeis.org/A005185"
   ]
  },
  {
   "cell_type": "code",
   "execution_count": null,
   "metadata": {},
   "outputs": [],
   "source": [
    "# code à compléter\n",
    "def a(n):\n",
    "    return"
   ]
  },
  {
   "cell_type": "markdown",
   "metadata": {},
   "source": [
    "## 2] Hofstadter Figure-Figure sequences\n",
    "\n",
    "Les suites *Hofstadter Figure-Figure* $R$ et $S$ sont des suites d'entiers complémentaires définies par :\n",
    "\n",
    "* $R_1 = 1$, $S_1 = 2$.\n",
    "* $R_n = R_{n - 1} + S_{n-1}$, pour $n > 1$.\n",
    "* avec la suite $(S_{n})$ définie comme strictement croissante contenant tous les entiers absents de $(R_{n})$.\n",
    "\n",
    "\n",
    "Les premiers termes sont :\n",
    "* $R = (1, 3, 7, 12, 18, 26, 35, 45, 56, 69, 83, 98, 114, 131, 150, 170, 191, 213, 236, 260, \\cdots)$ ; suite http://oeis.org/A005228\n",
    "* $S = (2, 4, 5, 6, 8, 9, 10, 11, 13, 14, 15, 16, 17, 19, 20, 21, 22, 23, 24, 25, \\cdots)$ ; suite http://oeis.org/A030124"
   ]
  },
  {
   "cell_type": "code",
   "execution_count": null,
   "metadata": {},
   "outputs": [],
   "source": [
    "# code à compléter\n",
    "def R(n):\n",
    "    return\n",
    "def S(n):\n",
    "    return"
   ]
  },
  {
   "cell_type": "markdown",
   "metadata": {},
   "source": [
    "## 3] La suite de Hofstadter–Conway à 10 000 dollars\n",
    "\n",
    "La suite $a$ est définie par :\n",
    "\n",
    "* $a_{1} = a_{2} = 1$,\n",
    "* $a_{n} = a_{a_{n-1}} + a_{n-a_{n-1}}$, pour $n \\geqslant 3$.\n",
    "\n",
    "$a = (1, 1, 2, 2, 3, 4, 4, 4, 5, 6, 7, 7, 8, 8, 8, 8, 9, 10, 11, 12, \\cdots)$ ; suite http://oeis.org/A004001\n",
    "\n",
    "1. *(Facile)* Calculer les premiers termes.\n",
    "2. *(Variable)* Étudier le comportement asymptotique de $S(n) = \\sum\\limits_{i=1}^n a_i$.\n",
    "3. *(Très difficile)* [Vérifier si votre code est efficace](https://www.spoj.com/problems/HC10000/)."
   ]
  },
  {
   "cell_type": "code",
   "execution_count": null,
   "metadata": {},
   "outputs": [],
   "source": [
    "# code à compléter\n",
    "def hc(n):\n",
    "    return"
   ]
  }
 ],
 "metadata": {
  "kernelspec": {
   "display_name": "Python 3",
   "language": "python",
   "name": "python3"
  },
  "language_info": {
   "codemirror_mode": {
    "name": "ipython",
    "version": 3
   },
   "file_extension": ".py",
   "mimetype": "text/x-python",
   "name": "python",
   "nbconvert_exporter": "python",
   "pygments_lexer": "ipython3",
   "version": "3.7.8"
  }
 },
 "nbformat": 4,
 "nbformat_minor": 4
}
