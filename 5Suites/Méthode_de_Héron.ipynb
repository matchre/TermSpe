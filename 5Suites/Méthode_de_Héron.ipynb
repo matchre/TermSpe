{
 "cells": [
  {
   "cell_type": "markdown",
   "metadata": {},
   "source": [
    "# Méthode de Héron\n",
    "La [méthode de Héron](https://fr.wikipedia.org/wiki/M%C3%A9thode_de_H%C3%A9ron) permet de calculer une racine carrée.\n",
    "\n",
    "## Approche géométrique\n",
    "\n",
    "Il est intéressant de mettre en évidence le principe géométrique sous-jacent à la méthode. Chez les mathématiciens grecs, extraire la racine carrée de $a$ revient à trouver un carré dont l'aire soit $a$. En prenant un rectangle de côté arbitraire $x$ et de même aire, il est nécessaire que l'autre côté ait pour longueur $\\frac a x$. Pour le rendre « moins rectangle », il suffit de considérer un nouveau rectangle dont la longueur est la moyenne arithmétique des deux côtés précédents soit $\\dfrac {x+\\frac a x}2$ et dont l'aire reste $a$.\n",
    "\n",
    "<img src=\"assets/Heron.png\" title=\"Méthode de Héron\" style=\"height: 200px;\"/>\n",
    "\n",
    "En réitérant infiniment le processus, le rectangle se transforme petit à petit en un carré de même aire. Cette constatation est à la base de la méthode de Héron"
   ]
  },
  {
   "cell_type": "markdown",
   "metadata": {},
   "source": [
    "## Principe\n",
    "\n",
    "Pour déterminer la racine carrée du nombre (positif) $a$, il convient de considérer la suite définie par récurrence de la façon suivante :\n",
    "$$\\forall n\\in \\mathbb {N} \\quad x_{n+1}= \\frac {x_n + \\frac {a}{x_n}}2$$\n",
    "\n",
    "de premier terme $x_0>0$ choisi si possible « assez proche » de $\\sqrt a$.\n",
    "\n",
    "La suite ainsi obtenue est une suite décroissante à partir du second terme, convergeant vers $\\sqrt a$. "
   ]
  },
  {
   "cell_type": "markdown",
   "metadata": {},
   "source": [
    "## Application à $\\sqrt 2$\n",
    "\n",
    "+ On entre `from math import sqrt`\n",
    "+ On entre ensuite `sqrt(2)` qui est le flottant le plus proche de $\\sqrt 2$.\n",
    "\n",
    "1. Vérifier qu'avec $x_0 = 1$, et $a = 2$, on obtient $x_5$ très proche de $\\sqrt 2$.\n",
    "2. Combien de chiffres corrects a-t-on gagné entre $x_4$ et $x_5$ ?\n",
    "3. Cela sert-il de continuer en travaillant avec des flottants ?"
   ]
  },
  {
   "cell_type": "code",
   "execution_count": 1,
   "metadata": {},
   "outputs": [
    {
     "data": {
      "text/plain": [
       "1.4142135623730951"
      ]
     },
     "execution_count": 1,
     "metadata": {},
     "output_type": "execute_result"
    }
   ],
   "source": [
    "from math import sqrt\n",
    "sqrt(2)\n",
    "\n",
    "# à compléter..."
   ]
  },
  {
   "cell_type": "markdown",
   "metadata": {},
   "source": [
    "## Application aux grands nombres\n",
    "\n",
    "1. + On entre `a = 10**2019`.\n",
    "   + On vérifie que `sqrt(a)` provoque une erreur.\n",
    "   + On entre `x = 3 * 10**1009` pour obtenir un entier proche de $\\sqrt a$.\n",
    "   + Quel est l'écart relatif entre $x^2$ et $a$ ? $\\left(\\dfrac{|x^2-a|}{a}\\right)$\n",
    "2. + Appliquer la méthode de Héron jusqu'à obtenir deux valeurs consécutives `x` égales.\n",
    "   + Veiller à ne travailler qu'avec des entiers.\n",
    "   + Combien d'étapes ont été nécessaires ?\n",
    "       - Et si on avait choisi `x = a` au départ de la méthode ?\n",
    "   + Quel est l'écart relatif entre $x^2$ et $a$ ? $\\left(\\dfrac{|x^2-a|}{a}\\right)$"
   ]
  },
  {
   "cell_type": "markdown",
   "metadata": {},
   "source": [
    "## Application aux très grands nombres\n",
    "*Python* peut calculer avec des entiers aussi grands que la mémoire de l'ordinateur le permet.\n",
    "> Attention, il ne faut pas afficher de nombre trop grands, cela prendrait trop de temps.\n",
    "> > Pour être précis, ce n'est pas l'affichage qui prend du temps ! En machine `print(bigNum)` se décompose :\n",
    "> > 1. Convertir `bigNum` de la base 2 à la base 10 ; dans une chaîne de caractères `bigStr`. **Lent.**\n",
    "> > 2. Afficher la chaîne de caractère `bigStr`. **Rapide.**\n",
    "\n",
    "1. Modifier son code pour ne plus afficher ni `x`, ni `a`.\n",
    "2. Appliquer la méthode de Héron à $a = 2\\times10^{10^6}$ (Oui, ce nombre possède un million et un chiffres !)\n",
    "3. Combien d'étapes ont-elles été nécessaires ?\n",
    "4. Expliquer pourquoi `x = int(sqrt(2) * 10**16)  * 10**(5*10**5 - 16)` est une bonne méthode pour initialiser `x` !\n",
    "5. Quel est le lien entre le `x` final et $\\sqrt 2$ ?"
   ]
  },
  {
   "cell_type": "code",
   "execution_count": null,
   "metadata": {},
   "outputs": [],
   "source": []
  }
 ],
 "metadata": {
  "kernelspec": {
   "display_name": "Python 3",
   "language": "python",
   "name": "python3"
  },
  "language_info": {
   "codemirror_mode": {
    "name": "ipython",
    "version": 3
   },
   "file_extension": ".py",
   "mimetype": "text/x-python",
   "name": "python",
   "nbconvert_exporter": "python",
   "pygments_lexer": "ipython3",
   "version": "3.7.8"
  }
 },
 "nbformat": 4,
 "nbformat_minor": 4
}
