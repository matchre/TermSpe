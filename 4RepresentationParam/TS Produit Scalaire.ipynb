{
 "cells": [
  {
   "cell_type": "markdown",
   "metadata": {
    "collapsed": true,
    "deletable": true,
    "editable": true
   },
   "source": [
    "# Chapitre"
   ]
  },
  {
   "cell_type": "markdown",
   "metadata": {
    "collapsed": false,
    "deletable": true,
    "editable": true
   },
   "source": [
    "blabla"
   ]
  },
  {
   "cell_type": "markdown",
   "metadata": {
    "deletable": true,
    "editable": true
   },
   "source": []
  },
  {
   "cell_type": "code",
   "execution_count": null,
   "metadata": {
    "collapsed": true,
    "deletable": true,
    "editable": true
   },
   "outputs": [],
   "source": []
  },
  {
   "cell_type": "markdown",
   "metadata": {
    "deletable": true,
    "editable": true
   },
   "source": []
  },
  {
   "cell_type": "code",
   "execution_count": 2,
   "metadata": {
    "collapsed": false,
    "deletable": true,
    "editable": true
   },
   "outputs": [
    {
     "name": "stdout",
     "output_type": "stream",
     "text": [
      "Coordonnées du point A, abscisse:1\n",
      "Coordonnées du point A, ordonnée:2\n",
      "Coordonnées du point A, cote:3\n",
      "Coordonnées du point B, abscisse:1\n",
      "Coordonnées du point B, ordonnée:2\n",
      "Coordonnées du point B, cote:4\n",
      "Coordonnées du point C, abscisse:2\n",
      "Coordonnées du point C, ordonnée:3\n",
      "Coordonnées du point C, cote:4\n",
      "Une équation cartésienne du plan (ABC) dans l'espace est -1.0 x + 1.0 y + 0.0 z + -1.0 =0\n"
     ]
    }
   ],
   "source": [
    "# -*- coding: utf-8 -*-\n",
    "from __future__ import division\n",
    "import numpy as np\n",
    "import random as rd\n",
    "\n",
    "\n",
    "xA=float(input(prompt=u'Coordonnées du point A, abscisse:'))\n",
    "yA=float(input(prompt=u'Coordonnées du point A, ordonnée:'))\n",
    "zA=float(input(prompt=u'Coordonnées du point A, cote:'))\n",
    "\n",
    "xB=float(input(prompt=u'Coordonnées du point B, abscisse:'))\n",
    "yB=float(input(prompt=u'Coordonnées du point B, ordonnée:'))\n",
    "zB=float(input(prompt=u'Coordonnées du point B, cote:'))\n",
    "\n",
    "xC=float(input(prompt=u'Coordonnées du point C, abscisse:'))\n",
    "yC=float(input(prompt=u'Coordonnées du point C, ordonnée:'))\n",
    "zC=float(input(prompt=u'Coordonnées du point C, cote:'))\n",
    "\n",
    "u=(yB-yA)*(zC-zA)-(zB-zA)*(yC-yA)\n",
    "v=(xC-xA)*(zB-zA)-(zC-zA)*(xB-xA)\n",
    "w=(xB-xA)*(yC-yA)-(yB-yA)*(xC-xA)\n",
    "\n",
    "d=-(u*xA+v*yA+w*zA)\n",
    "\n",
    "print (u'Une équation cartésienne du plan (ABC) dans l\\'espace est',u,'x +',v,'y +',w,'z +',d,'=0')"
   ]
  },
  {
   "cell_type": "markdown",
   "metadata": {
    "deletable": true,
    "editable": true
   },
   "source": []
  },
  {
   "cell_type": "code",
   "execution_count": null,
   "metadata": {
    "collapsed": true,
    "deletable": true,
    "editable": true
   },
   "outputs": [],
   "source": []
  },
  {
   "cell_type": "markdown",
   "metadata": {
    "deletable": true,
    "editable": true
   },
   "source": []
  },
  {
   "cell_type": "code",
   "execution_count": null,
   "metadata": {
    "collapsed": true,
    "deletable": true,
    "editable": true
   },
   "outputs": [],
   "source": []
  }
 ],
 "metadata": {
  "kernelspec": {
   "display_name": "Python 3",
   "language": "python",
   "name": "python3"
  },
  "language_info": {
   "codemirror_mode": {
    "name": "ipython",
    "version": 3
   },
   "file_extension": ".py",
   "mimetype": "text/x-python",
   "name": "python",
   "nbconvert_exporter": "python",
   "pygments_lexer": "ipython3",
   "version": "3.5.1"
  },
  "widgets": {
   "state": {},
   "version": "1.1.2"
  }
 },
 "nbformat": 4,
 "nbformat_minor": 0
}
