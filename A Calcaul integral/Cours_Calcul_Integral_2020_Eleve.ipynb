{
 "cells": [
  {
   "cell_type": "code",
   "execution_count": 14,
   "metadata": {},
   "outputs": [],
   "source": [
    "import numpy as np\n",
    "import matplotlib.pyplot as plt"
   ]
  },
  {
   "cell_type": "code",
   "execution_count": 15,
   "metadata": {},
   "outputs": [],
   "source": [
    "%matplotlib inline"
   ]
  },
  {
   "cell_type": "markdown",
   "metadata": {},
   "source": [
    "## Approximation de l'intégrale d'une courbe par la méthode des rectangles\n",
    "\n",
    "[Fichier Geogebra : somme des rectangles pour la parabole $y=x^2$sur [0;1]](https://www.geogebra.org/m/n6javdkf)"
   ]
  },
  {
   "cell_type": "markdown",
   "metadata": {},
   "source": [
    "### Exemple de la fonction sommeRectangle(a, b, n) du cours\n",
    "\n",
    "Que représentent les variables `u` et `v` dans la fonction ci-dessous ?"
   ]
  },
  {
   "cell_type": "code",
   "execution_count": 5,
   "metadata": {},
   "outputs": [],
   "source": [
    "\n",
    "def f(x):\n",
    "    return x ** 2\n",
    "\n",
    "def sommeRectangle(a, b, n):\n",
    "    h = (b - a) / n\n",
    "    x = a \n",
    "    u = 0\n",
    "    v = 0\n",
    "    for k in range(0, n - 1): #n subdivisions => n tours\n",
    "        u = u + h * f(x)  \n",
    "        x = x + h\n",
    "        v = v + h * f(x)\n",
    "    return (u, v)"
   ]
  },
  {
   "cell_type": "code",
   "execution_count": 6,
   "metadata": {},
   "outputs": [
    {
     "data": {
      "text/plain": [
       "(0.20399999999999996, 0.2849999999999999)"
      ]
     },
     "execution_count": 6,
     "metadata": {},
     "output_type": "execute_result"
    }
   ],
   "source": [
    "sommeRectangle(0, 1, 10)"
   ]
  },
  {
   "cell_type": "markdown",
   "metadata": {},
   "source": [
    "## Exemple 3\n",
    "\n",
    "Compléter les fonctions Python ci-dessous pour qu'elles retournent une approximation de $\\int_{a}^{b}f(x) \\mathrm{dx}$ par la somme de rectangles à gauche construits sur $n$ subdivisions régulières de l'intervalle $[a;b]$."
   ]
  },
  {
   "cell_type": "code",
   "execution_count": 7,
   "metadata": {},
   "outputs": [],
   "source": [
    "def  rectangleGauche(f, a, b, n):\n",
    "    s = 0\n",
    "    pas = (b - a)/n\n",
    "    x = a\n",
    "    for k in range(n):\n",
    "        s = '..............'\n",
    "        x = '..............'\n",
    "    return s\n",
    "\n",
    "\n",
    "def rectangleGauche2(f, a, b, n):\n",
    "    s = 0\n",
    "    pas = (b - a) / n\n",
    "    for k in range(n):\n",
    "        s = '..............'\n",
    "    return s\n",
    "\n",
    "def rectangleGaucheDessin(f, a, b, n):\n",
    "    s = 0\n",
    "    pas = (b - a)/n\n",
    "    x = a\n",
    "    for k in range(n):\n",
    "        s = s + f(x) * pas\n",
    "        plt.fill([x, x + pas, x + pas, x, x], [0] * 2 + [f(x)] * 2 + [0], hatch='/',edgecolor='black', facecolor='none')\n",
    "        x = x + pas        \n",
    "    lesx = np.linspace(a, b, 1000)  \n",
    "    fvect = np.vectorize(f)\n",
    "    ax = plt.gca()\n",
    "    ax.spines['top'].set_color('none')\n",
    "    ax.spines['right'].set_color('none')\n",
    "    ax.spines['bottom'].set_position(('data',0))\n",
    "    ax.spines['left'].set_position(('data',a))\n",
    "    plt.plot(lesx, fvect(lesx), color='black')\n",
    "    plt.title(r\"Rectangles à gauche $\\int_{%d}^{%d}f(x)dx\\approx$%1.3f\"%(a,b,s))\n",
    "    plt.savefig('methodeRectangleGauche-{}-{}-{}-{}subdivisions.eps'.format(f.__name__,a,b,n))\n",
    "    plt.show()\n",
    "    return s"
   ]
  },
  {
   "cell_type": "markdown",
   "metadata": {},
   "source": [
    "Écrire une fonction `rectangleDroite(f, a, b, n)` qui retourne une approximation de $\\int_{a}^{b}f(x) \\mathrm{dx}$ par la somme de rectangles à droite construits sur $n$ subdivisions régulières de l'intervalle $[a;b]$."
   ]
  },
  {
   "cell_type": "code",
   "execution_count": 8,
   "metadata": {},
   "outputs": [],
   "source": [
    "def rectangleDroite(f, a, b, n):\n",
    "    s = 0\n",
    "    pas = (b - a)/n\n",
    "    x = a + pas\n",
    "    for k in range(n):\n",
    "        s = '..............'\n",
    "        x = '..............'\n",
    "    return s\n",
    "\n",
    "def rectangleDroite2(f, a, b, n):\n",
    "    s = 0\n",
    "    pas = (b - a) / n\n",
    "    for k in range(1, n + 1):\n",
    "        s = '..............'\n",
    "    return s\n",
    "\n",
    "def rectangleDroiteDessin(f, a, b, n):\n",
    "    s = 0\n",
    "    pas = (b - a)/n\n",
    "    x = a\n",
    "    for k in range(n):\n",
    "        s = s + f(x + pas) * pas\n",
    "        plt.fill([x, x + pas, x + pas, x, x], [0] * 2 + [f(x+pas)] * 2 + [0], hatch='/',edgecolor='black', facecolor='none')\n",
    "        x = x + pas        \n",
    "    lesx = np.linspace(a, b, 1000)  \n",
    "    fvect = np.vectorize(f)\n",
    "    ax = plt.gca()\n",
    "    ax.spines['top'].set_color('none')\n",
    "    ax.spines['right'].set_color('none')\n",
    "    ax.spines['bottom'].set_position(('data',0))\n",
    "    ax.spines['left'].set_position(('data',a))\n",
    "    plt.plot(lesx, fvect(lesx), color='black')\n",
    "    plt.title(r\"Rectangles à droite $\\int_{%d}^{%d}f(x)dx\\approx$%1.3f\"%(a,b,s))\n",
    "    plt.savefig('methodeRectangleDroite-{}-{}-{}-{}subdivisions.eps'.format(f.__name__,a,b,n))\n",
    "    plt.show()\n",
    "    return s"
   ]
  },
  {
   "cell_type": "code",
   "execution_count": 9,
   "metadata": {},
   "outputs": [],
   "source": [
    "def inverse(x):\n",
    "    return 1 / x"
   ]
  },
  {
   "cell_type": "code",
   "execution_count": 10,
   "metadata": {},
   "outputs": [
    {
     "data": {
      "text/plain": [
       "'inverse'"
      ]
     },
     "execution_count": 10,
     "metadata": {},
     "output_type": "execute_result"
    }
   ],
   "source": [
    "inverse.__name__"
   ]
  },
  {
   "cell_type": "code",
   "execution_count": 11,
   "metadata": {},
   "outputs": [
    {
     "data": {
      "text/plain": [
       "'..............'"
      ]
     },
     "execution_count": 11,
     "metadata": {},
     "output_type": "execute_result"
    }
   ],
   "source": [
    "rectangleGauche(inverse, 1, 2, 10)"
   ]
  },
  {
   "cell_type": "code",
   "execution_count": 12,
   "metadata": {},
   "outputs": [
    {
     "data": {
      "text/plain": [
       "'..............'"
      ]
     },
     "execution_count": 12,
     "metadata": {},
     "output_type": "execute_result"
    }
   ],
   "source": [
    "rectangleGauche2(inverse, 1, 2, 10)"
   ]
  },
  {
   "cell_type": "code",
   "execution_count": 16,
   "metadata": {},
   "outputs": [
    {
     "data": {
      "image/png": "[encoded data removed]",
      "text/plain": [
       "<Figure size 432x288 with 1 Axes>"
      ]
     },
     "metadata": {
      "needs_background": "light"
     },
     "output_type": "display_data"
    },
    {
     "data": {
      "text/plain": [
       "0.7187714031754279"
      ]
     },
     "execution_count": 16,
     "metadata": {},
     "output_type": "execute_result"
    }
   ],
   "source": [
    "rectangleGaucheDessin(inverse,1,2,10)"
   ]
  },
  {
   "cell_type": "code",
   "execution_count": 17,
   "metadata": {},
   "outputs": [],
   "source": [
    "def carre(x):\n",
    "    return x ** 2"
   ]
  },
  {
   "cell_type": "code",
   "execution_count": 18,
   "metadata": {},
   "outputs": [
    {
     "data": {
      "image/png": "[encoded data removed]",
      "text/plain": [
       "<Figure size 432x288 with 1 Axes>"
      ]
     },
     "metadata": {
      "needs_background": "light"
     },
     "output_type": "display_data"
    },
    {
     "data": {
      "text/plain": [
       "0.2849999999999999"
      ]
     },
     "execution_count": 18,
     "metadata": {},
     "output_type": "execute_result"
    }
   ],
   "source": [
    "rectangleGaucheDessin(carre,0,1,10)"
   ]
  },
  {
   "cell_type": "code",
   "execution_count": 105,
   "metadata": {},
   "outputs": [
    {
     "data": {
      "image/png": "[encoded data removed]",
      "text/plain": [
       "<Figure size 432x288 with 1 Axes>"
      ]
     },
     "metadata": {
      "needs_background": "light"
     },
     "output_type": "display_data"
    },
    {
     "data": {
      "text/plain": [
       "0.3849999999999999"
      ]
     },
     "execution_count": 105,
     "metadata": {},
     "output_type": "execute_result"
    }
   ],
   "source": [
    "rectangleDroiteDessin(carre, 0, 1, 10)"
   ]
  }
 ],
 "metadata": {
  "kernelspec": {
   "display_name": "Python 3",
   "language": "python",
   "name": "python3"
  },
  "language_info": {
   "codemirror_mode": {
    "name": "ipython",
    "version": 3
   },
   "file_extension": ".py",
   "mimetype": "text/x-python",
   "name": "python",
   "nbconvert_exporter": "python",
   "pygments_lexer": "ipython3",
   "version": "3.6.9"
  }
 },
 "nbformat": 4,
 "nbformat_minor": 2
}
