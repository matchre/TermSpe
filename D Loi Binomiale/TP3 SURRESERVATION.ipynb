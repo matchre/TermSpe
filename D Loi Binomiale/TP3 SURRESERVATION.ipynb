{
  "cells": [
    {
      "cell_type": "markdown",
      "source": [
        "#  Surréservation et profit p363\n"
      ],
      "metadata": {
        "nteract": {
          "transient": {
            "deleting": false
          }
        }
      }
    },
    {
      "cell_type": "markdown",
      "source": [
        "L’avion considéré peut contenir 124 passagers. Chaque passager se présente à l’embarquement, indépendamment des autres passagers, avec une probabilité égale à 0,91. Le nombre de billets vendus par la compagnie aérienne est noté n. Cet entier est supérieur ou égal à 124.\n",
        "\n",
        "L’entreprise cherche ici à optimiser ses profits. Chaque client qui se présente et qui peut embarquer rapporte 100 € à la compagnie aérienne. En revanche, chaque client qui se présente mais qui se voit refuser la possibilité de monter à bord coûte 150 € à la compagnie aérienne. Un client qui ne se présente pas peut se faire rembourser en partie son billet et permet un profit de 30 € à la compagnie aérienne."
      ],
      "metadata": {
        "nteract": {
          "transient": {
            "deleting": false
          }
        }
      }
    },
    {
      "cell_type": "markdown",
      "source": [
        "vOTRE NOM\n",
        "TELECHARGEZ PUIS POSTEZ A TINYURL.COM/MRCHRETIEN "
      ],
      "metadata": {
        "nteract": {
          "transient": {
            "deleting": false
          }
        }
      }
    },
    {
      "cell_type": "markdown",
      "source": [
        "1. compléter les fonctions avionProfit et simulations.\n"
      ],
      "metadata": {
        "nteract": {
          "transient": {
            "deleting": false
          }
        }
      }
    },
    {
      "cell_type": "code",
      "source": [
        "from random import random\n",
        "\n",
        "def passagerPresent():\n",
        "\t#renvoie 1 si le passager se prÃ©sente Ã  l'embarquement et 0 sinon\n",
        "\tif random() <= 0.91:\n",
        "\t\treturn 1\n",
        "\telse:\n",
        "\t\treturn 0\n",
        "\n",
        "def avionProfit(n):\n",
        "\t#renvoie le profit pour un avion, pour n billets vendus\n",
        "\tprofit = 0\n",
        "\tpassagers = 0\n",
        "\tfor passager in range(n):\n",
        "\t\tif ...:\n",
        "\t\t\tprofit = profit + 30\n",
        "\t\telse:\n",
        "\t\t\tif (passagers < 124):\n",
        "\t\t\t\tprofit = profit + ...\n",
        "\t\t\t\tpassagers = passagers + ... \n",
        "\t\t\telse:\n",
        "\t\t\t\tprofit = ...\n",
        "\treturn profit\n",
        "\n",
        "def simulations(nbSimulations, n):\n",
        "\t#renvoie le profit moyen pour nbSimulations avions, avec chacun n billets vendus\n",
        "\tprofitMoyen = 0\n",
        "\tfor avion in range(...):\n",
        "\t\tprofitMoyen = profitMoyen + ...\n",
        "\treturn profitMoyen/nbSimulations\n",
        "\n",
        "def optimisation():\n",
        "\t#nombre optimal de billets Ã  vendre, pour optimiser le profit moyen par avion\n",
        "\tnombreBilletsVendus = 100\n",
        "\tnombreOptimalBilletsVendus = 100\n",
        "\tprofit = 0\n",
        "\tprofitOptimal = 0\n",
        "\twhile (profit == profitOptimal):\n",
        "\t\tnombreBilletsVendus = nombreBilletsVendus + 1\n",
        "\t\tprofit = simulations(1000, ...)\n",
        "\t\tif (profit > profitOptimal):\n",
        "\t\t\tnombreOptimalBilletsVendus = ...\n",
        "\t\t\tprofitOptimal = profit\n",
        "\treturn nombreOptimalBilletsVendus\n",
        "\n"
      ],
      "outputs": [],
      "execution_count": null,
      "metadata": {
        "collapsed": true,
        "jupyter": {
          "source_hidden": false,
          "outputs_hidden": false
        },
        "nteract": {
          "transient": {
            "deleting": false
          }
        }
      }
    },
    {
      "cell_type": "markdown",
      "source": [
        "2. Déterminer une valeur approchée du profit moyen par avion lorsque le nombre de billets vendus est n=130."
      ],
      "metadata": {
        "nteract": {
          "transient": {
            "deleting": false
          }
        }
      }
    },
    {
      "cell_type": "code",
      "source": [],
      "outputs": [],
      "execution_count": null,
      "metadata": {
        "collapsed": true,
        "jupyter": {
          "source_hidden": false,
          "outputs_hidden": false
        },
        "nteract": {
          "transient": {
            "deleting": false
          }
        }
      }
    },
    {
      "cell_type": "markdown",
      "source": [
        "3. Réaliser plusieurs tests et conjecturer le nombre idéal de billets à proposer à la vente.\n",
        "\n",
        "\n"
      ],
      "metadata": {
        "nteract": {
          "transient": {
            "deleting": false
          }
        }
      }
    },
    {
      "cell_type": "code",
      "source": [],
      "outputs": [],
      "execution_count": null,
      "metadata": {
        "collapsed": true,
        "jupyter": {
          "source_hidden": false,
          "outputs_hidden": false
        },
        "nteract": {
          "transient": {
            "deleting": false
          }
        }
      }
    },
    {
      "cell_type": "markdown",
      "source": [
        "4. Déterminer le nombre de billets à vendre pour maximiser le profit, sachant que le maximum de billets à vendre est 140.\n"
      ],
      "metadata": {
        "nteract": {
          "transient": {
            "deleting": false
          }
        }
      }
    },
    {
      "cell_type": "code",
      "source": [],
      "outputs": [],
      "execution_count": null,
      "metadata": {
        "collapsed": true,
        "jupyter": {
          "source_hidden": false,
          "outputs_hidden": false
        },
        "nteract": {
          "transient": {
            "deleting": false
          }
        }
      }
    },
    {
      "cell_type": "markdown",
      "source": [
        "bONUS1:On suppose que le nombre de billets vendus maximise le profit. Calculer ce profit."
      ],
      "metadata": {
        "nteract": {
          "transient": {
            "deleting": false
          }
        }
      }
    },
    {
      "cell_type": "code",
      "source": [],
      "outputs": [],
      "execution_count": null,
      "metadata": {
        "collapsed": true,
        "jupyter": {
          "source_hidden": false,
          "outputs_hidden": false
        },
        "nteract": {
          "transient": {
            "deleting": false
          }
        }
      }
    },
    {
      "cell_type": "markdown",
      "source": [
        "bONUS2. En utilisant la méthode de surréservation décrite, quel est le gain réalisé en comparaison à une compagnie qui ne pratiquerait pas la surréservation mais qui ne rembourserait pas les billets ?"
      ],
      "metadata": {
        "nteract": {
          "transient": {
            "deleting": false
          }
        }
      }
    },
    {
      "cell_type": "code",
      "source": [],
      "outputs": [],
      "execution_count": null,
      "metadata": {
        "collapsed": true,
        "jupyter": {
          "source_hidden": false,
          "outputs_hidden": false
        },
        "nteract": {
          "transient": {
            "deleting": false
          }
        }
      }
    }
  ],
  "metadata": {
    "kernel_info": {
      "name": "python3"
    },
    "language_info": {
      "name": "python3"
    },
    "kernelspec": {
      "argv": [
        "python",
        "-m",
        "ipykernel_launcher",
        "-f",
        "{connection_file}"
      ],
      "display_name": "Python 3",
      "language": "python",
      "name": "python3"
    },
    "nteract": {
      "version": "0.26.0"
    }
  },
  "nbformat": 4,
  "nbformat_minor": 0
}