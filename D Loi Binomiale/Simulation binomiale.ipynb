{
 "cells": [
  {
   "cell_type": "markdown",
   "metadata": {},
   "source": [
    "# Simulation de la loi binomiale avec Python\n",
    "Auteur :  <a href=\"mailto:franck.chambon@académie-aix-marseille.france\">Franck CHAMBON</a>\n",
    "\n",
    "Un document issus de cet [ensemble de cours](https://htmlpreview.github.io/?https://raw.githubusercontent.com/FranckCHAMBON/Python-Lycee/master/Python-Presentation/Python-Presentation.html) pour *Python* et les mathématiques.\n",
    "\n",
    "---\n",
    "\n",
    "On rappelle que la [loi binomiale](https://fr.wikipedia.org/wiki/Loi_binomiale) modélise le nombre de succès obtenus lors de la répétition indépendante de plusieurs expériences aléatoires identiques.\n",
    "\n",
    "Ces expériences aléatoires identiques et indépendantes peuvent être considérées comme des [épreuves de Bernoulli](https://fr.wikipedia.org/wiki/%C3%89preuve_de_Bernoulli).\n",
    "\n",
    "Commençons par simuler ces épreuves ; on fera ensuite le compte des succès en cas de répétition."
   ]
  },
  {
   "cell_type": "markdown",
   "metadata": {},
   "source": [
    "## Simulation d'épreuve de Bernoulli\n",
    "*Python* propose le [module `random`](https://docs.python.org/fr/3/library/random.html) qui fournit, en particulier les fonctions `randint` et `random`, générateurs de nombres pseudo-aléatoires.\n",
    "- `randint(a, b)` : retourne un entier entre `a` inclus et `b` inclus.\n",
    "- `random()` : retourne un flottant entre $0$ inclus et $1$ exclu. *Simule un réel.*\n",
    "\n",
    "On peut s'en servir pour simuler une expérience de Bernoulli où la probabilité de succès est connue. Deux cas sont à envisager, la probabilité de succès est :\n",
    "* une fraction $\\frac a b$ ;\n",
    "* ou bien une valeur réelle $p$.\n",
    "\n",
    "La ligne ci-dessous est à inclure une fois pour toute au début d'un code *Python*, les fonctions sont alors ensuite accessibles."
   ]
  },
  {
   "cell_type": "code",
   "execution_count": 1,
   "metadata": {},
   "outputs": [],
   "source": [
    "from random import random, randint"
   ]
  },
  {
   "cell_type": "markdown",
   "metadata": {},
   "source": [
    "### Exemple 1 : probabilité de succès, une fraction\n",
    "![https://www.istockphoto.com/fr/illustrations/fiery-dragon?sort=best&mediatype=illustration&phrase=fiery%20dragon](assets/dragon.jpg)\n",
    "![https://cdn.pixabay.com/photo/2012/04/18/15/01/hypercube-37278_960_720.png](assets/de_20.png)\n",
    "\n",
    "Dans un jeu de rôle, on lance un dé à $20$ faces pour éviter la flamme d'un dragon, on réussit si le dé affiche $1$, $2$ ou $3$.\n",
    "> Il s'agit d'une situation d'équiprobabilité (le dé est non truqué), avec $3$ issues favorables parmi $20$ issues possibles.  \n",
    "> La probabilité de succès est $\\frac 3 {20}$."
   ]
  },
  {
   "cell_type": "code",
   "execution_count": 2,
   "metadata": {},
   "outputs": [],
   "source": [
    "def évite_flamme_dragon():\n",
    "    lancé = randint(1, 20)\n",
    "    if lancé <= 3:\n",
    "        return \"Succès\"\n",
    "    else:\n",
    "        return \"Échec\""
   ]
  },
  {
   "cell_type": "code",
   "execution_count": 3,
   "metadata": {},
   "outputs": [
    {
     "name": "stdout",
     "output_type": "stream",
     "text": [
      "Test numéro 0 : Échec\n",
      "Test numéro 1 : Échec\n",
      "Test numéro 2 : Échec\n",
      "Test numéro 3 : Succès\n",
      "Test numéro 4 : Échec\n",
      "Test numéro 5 : Échec\n",
      "Test numéro 6 : Succès\n",
      "Test numéro 7 : Succès\n",
      "Test numéro 8 : Échec\n",
      "Test numéro 9 : Échec\n"
     ]
    }
   ],
   "source": [
    "# Une utilisation possible, ici on teste 10 fois\n",
    "for num_test in range(10):\n",
    "    print(f\"Test numéro {num_test} :\", évite_flamme_dragon())"
   ]
  },
  {
   "cell_type": "markdown",
   "metadata": {},
   "source": [
    "De manière générale, si on souhaite faire une épreuve de Bernoulli qui a une probabilité de succès égale à $\\frac a b$, où\n",
    "* $a$ est un entier positif ;\n",
    "* $b$ est un entier positif non nul.\n",
    "\n",
    "On peut écrire directement :"
   ]
  },
  {
   "cell_type": "code",
   "execution_count": 4,
   "metadata": {},
   "outputs": [
    {
     "data": {
      "text/plain": [
       "False"
      ]
     },
     "execution_count": 4,
     "metadata": {},
     "output_type": "execute_result"
    }
   ],
   "source": [
    "a, b = 3, 20\n",
    "# par exemple\n",
    "\n",
    "randint(1, b) <= a\n",
    "# ceci est un booléen,\n",
    "#     True avec la probabilité a/b\n",
    "#     False avec la probabilité (b-a)/b"
   ]
  },
  {
   "cell_type": "markdown",
   "metadata": {},
   "source": [
    "### Exemple 2 : probabilité de succès, un nombre réel\n",
    "\n",
    "![https://publicdomainvectors.org/fr/gratuitement-des-vecteurs/Illustration-vectorielle-de-cibles-de-fl%C3%A9chettes-ronde/22173.html](assets/darts2.png)\n",
    "\n",
    "Dans un jeu de fléchette, Tom envoie au hasard une fléchette dans une zone qui contient une cible.\n",
    "> Tom réussit toujours à envoyer sa fléchette dans la zone carrée de $2~\\textrm{m}$ qui a donc une aire de $4~\\textrm{m}^2$, mais de façon aléatoire uniforme dans la zone.  \n",
    "> Dans cette zone, il y a une cible, un disque de $1~\\textrm{m}$ de rayon, et dont l'aire est donc $\\pi~\\textrm{m}^2$.\n",
    "La probabilité de succès pour toucher la cible est donc $\\frac \\pi 4$."
   ]
  },
  {
   "cell_type": "code",
   "execution_count": 5,
   "metadata": {},
   "outputs": [],
   "source": [
    "from math import pi\n",
    "# pour avoir accès à pi, une approximation de π\n",
    "\n",
    "def touche_cible():\n",
    "    if random() < (pi / 4):\n",
    "        return \"Succès\"\n",
    "    else:\n",
    "        return \"Èchec\""
   ]
  },
  {
   "cell_type": "code",
   "execution_count": 6,
   "metadata": {},
   "outputs": [
    {
     "name": "stdout",
     "output_type": "stream",
     "text": [
      "Test numéro 0 : Succès\n",
      "Test numéro 1 : Succès\n",
      "Test numéro 2 : Èchec\n",
      "Test numéro 3 : Succès\n",
      "Test numéro 4 : Èchec\n",
      "Test numéro 5 : Èchec\n",
      "Test numéro 6 : Succès\n",
      "Test numéro 7 : Succès\n",
      "Test numéro 8 : Succès\n",
      "Test numéro 9 : Succès\n"
     ]
    }
   ],
   "source": [
    "# Une utilisation possible, ici on teste 10 fois\n",
    "for num_test in range(10):\n",
    "    print(f\"Test numéro {num_test} :\", touche_cible())"
   ]
  },
  {
   "cell_type": "markdown",
   "metadata": {},
   "source": [
    "De manière générale, si on souhaite faire une épreuve de Bernoulli qui a une probabilité de succès égale à $p$, où\n",
    "* $p$ est un réel compris entre $0$ et $1$.\n",
    "on peut écrire directement :"
   ]
  },
  {
   "cell_type": "code",
   "execution_count": 7,
   "metadata": {},
   "outputs": [
    {
     "data": {
      "text/plain": [
       "True"
      ]
     },
     "execution_count": 7,
     "metadata": {},
     "output_type": "execute_result"
    }
   ],
   "source": [
    "p = pi / 4\n",
    "# par exemple, ici p est environ égal à 0.7853981633974483\n",
    "\n",
    "random() < p\n",
    "# ceci est un booléen,\n",
    "#     True avec la probabilité p\n",
    "#     False avec la probabilité 1-p"
   ]
  },
  {
   "cell_type": "markdown",
   "metadata": {},
   "source": [
    "## Simulation d'un schéma de Bernoulli\n",
    "On répète maintenant plusieurs fois des expériences de Bernoulli identiques et de manière indépendante, et on compte le nombre de succès. On obtient un schéma de Bernoulli.\n",
    "\n",
    "### Compter une fois le nombre de succès\n",
    "On considère une expérience de Bernoulli de paramètre $p = 0.2$, et on répète $n = 100$ fois cette expérience de manière indépendante.\n",
    "\n",
    "Comptons le nombre de succès :"
   ]
  },
  {
   "cell_type": "code",
   "execution_count": 8,
   "metadata": {},
   "outputs": [
    {
     "data": {
      "text/plain": [
       "28"
      ]
     },
     "execution_count": 8,
     "metadata": {},
     "output_type": "execute_result"
    }
   ],
   "source": [
    "p = 0.2\n",
    "n = 100\n",
    "\n",
    "nb_succès = 0 # initialisation\n",
    "for _ in range(n):\n",
    "    if random() < p:\n",
    "        nb_succès += 1 # augmentation de 1\n",
    "\n",
    "nb_succès"
   ]
  },
  {
   "cell_type": "markdown",
   "metadata": {},
   "source": [
    "Il est raisonnable de trouver ici un nombre de succès proche de $p\\times n = 0.2\\times 100 = 20$.\n",
    "\n",
    "On va répéter plusieurs fois ce schéma et afficher le nombre de succès."
   ]
  },
  {
   "cell_type": "markdown",
   "metadata": {},
   "source": [
    "### Compter plusieurs fois le nombre de succès"
   ]
  },
  {
   "cell_type": "code",
   "execution_count": 9,
   "metadata": {},
   "outputs": [],
   "source": [
    "def simulation_schéma(p, n):\n",
    "    \"Retourne le nombre de succès dans un schéma de Bernoulli de paramètres p et n\"\n",
    "    nb_succès = 0 # initialisation\n",
    "    for _ in range(n):\n",
    "        if random() < p:\n",
    "            nb_succès += 1 # augmentation de 1\n",
    "    return nb_succès"
   ]
  },
  {
   "cell_type": "code",
   "execution_count": 10,
   "metadata": {},
   "outputs": [
    {
     "name": "stdout",
     "output_type": "stream",
     "text": [
      "Test numéro 0 : nombre de succès = 24\n",
      "Test numéro 1 : nombre de succès = 18\n",
      "Test numéro 2 : nombre de succès = 21\n",
      "Test numéro 3 : nombre de succès = 21\n",
      "Test numéro 4 : nombre de succès = 15\n",
      "Test numéro 5 : nombre de succès = 21\n",
      "Test numéro 6 : nombre de succès = 19\n",
      "Test numéro 7 : nombre de succès = 23\n",
      "Test numéro 8 : nombre de succès = 25\n",
      "Test numéro 9 : nombre de succès = 21\n"
     ]
    }
   ],
   "source": [
    "p = 0.2 # proba de succès de l'épreuve de Bernoulli\n",
    "n = 100 # nombre de répétition de l'épreuve\n",
    "\n",
    "nb_rep_schem = 10 # nombre de répétition du schéma\n",
    "\n",
    "for test in range(nb_rep_schem):\n",
    "    nb_succès = simulation_schéma(p, n)\n",
    "    print(f\"Test numéro {test} : nombre de succès = {nb_succès}\")"
   ]
  },
  {
   "cell_type": "markdown",
   "metadata": {},
   "source": [
    "On aimerait obtenir un tableau de ces résulats"
   ]
  },
  {
   "cell_type": "markdown",
   "metadata": {},
   "source": [
    "### Obtenir un tableau de résultats"
   ]
  },
  {
   "cell_type": "code",
   "execution_count": 11,
   "metadata": {},
   "outputs": [
    {
     "data": {
      "text/plain": [
       "[19, 12, 25, 18, 23, 18, 25, 20, 15, 16]"
      ]
     },
     "execution_count": 11,
     "metadata": {},
     "output_type": "execute_result"
    }
   ],
   "source": [
    "p = 0.2 # proba de succès de l'épreuve de Bernoulli\n",
    "n = 100 # nombre de répétition de l'épreuve\n",
    "\n",
    "nb_rep_schem = 10000 # nombre de répétition du schéma\n",
    "\n",
    "# on fait ici la construction d'un tableau par compréhension (c'est au programme de la spé math en première)\n",
    "résultats = [simulation_schéma(p, n) for test in range(nb_rep_schem)]\n",
    "\n",
    "# cette construction est équivalente à la suivante :\n",
    "résultats = [] # une liste vide\n",
    "for test in range(nb_rep_schem): # on répète plusieurs fois\n",
    "    résultats.append(simulation_schéma(p, n)) # un ajout d'une valeur à la liste.\n",
    "\n",
    "résultats[:10] #on affiche les 10 premières valeurs"
   ]
  },
  {
   "cell_type": "markdown",
   "metadata": {},
   "source": [
    "On aimerait obtenir un histogramme de ces résultats."
   ]
  },
  {
   "cell_type": "markdown",
   "metadata": {},
   "source": [
    "### Obtenir un histogramme\n",
    "On commence par importer le module `matplotlib.pyplot` que l'on appelera ensuite `plt`"
   ]
  },
  {
   "cell_type": "code",
   "execution_count": 12,
   "metadata": {},
   "outputs": [],
   "source": [
    "%matplotlib inline\n",
    "import matplotlib.pyplot as plt"
   ]
  },
  {
   "cell_type": "markdown",
   "metadata": {},
   "source": [
    "Dans notre exemple, le nombre de succès est souvent proche de $20$.\n",
    "\n",
    "* On construit alors l'histogramme (avec `hist`),\n",
    "* en se concentrant sur les valeurs de $0$ inclus à $40$ exclue (`range`).\n",
    "* Cela fait $40$ valeurs entières distinctes, on fera alors $40$ barres (`bins`) ; une par valeur."
   ]
  },
  {
   "cell_type": "code",
   "execution_count": 13,
   "metadata": {},
   "outputs": [
    {
     "data": {
      "image/png": "[encoded data removed]",
      "text/plain": [
       "<Figure size 432x288 with 1 Axes>"
      ]
     },
     "metadata": {
      "needs_background": "light"
     },
     "output_type": "display_data"
    }
   ],
   "source": [
    "graphique = plt.hist(résultats, range = (0, 40), bins = 40)"
   ]
  },
  {
   "cell_type": "code",
   "execution_count": 14,
   "metadata": {},
   "outputs": [
    {
     "data": {
      "image/png": "[encoded data removed]",
      "text/plain": [
       "<Figure size 432x288 with 1 Axes>"
      ]
     },
     "metadata": {
      "needs_background": "light"
     },
     "output_type": "display_data"
    }
   ],
   "source": [
    "# pour les fréquences, on ajoute density=True\n",
    "plt.hist(résultats, range = (0, 40), bins = 40, density=True)\n",
    "\n",
    "# pour les titres\n",
    "plt.xlabel(\"Nombre de succès\")\n",
    "plt.ylabel(\"Fréquence\")\n",
    "plt.title(\"Notre histogramme des fréquences\")\n",
    "plt.text(2, .08, \"$p=0.2, n=100$\")\n",
    "plt.show()"
   ]
  },
  {
   "cell_type": "markdown",
   "metadata": {},
   "source": [
    "Dans cet histogramme :\n",
    "* la partie gauche indique qu'il n'arrive pas que le nombre de succès soit petit, comme inférieur à 5 avec cette simulation ;\n",
    "* la partie droite indique qu'il n'arrive pas que le nombre de succès soit supérieur à 35 avec cette simulation ;\n",
    "* la valeur la plus élevée indiquent quel nombre de succès est le plus fréquent.\n",
    "\n",
    "On constate une forme symétrique qui peut être étudié de manière théorique."
   ]
  },
  {
   "cell_type": "markdown",
   "metadata": {},
   "source": [
    "### Comparer les statistiques et les probabilités\n",
    "On pourrait comparer les fréquences obtenues avec les probabilités attendues.\n",
    "\n",
    "D'abord rappelons (cours de maths) que dans un schéma de Bernoulli de paramètres $p$ et $n$,\n",
    "> En notant $X$ la variable aléatoire du nombre de succès,   \n",
    "> la probabilité d'obtenir $k$ succès est $\\mathbb P(X = k) = \\binom n k p^k (1-p)^{n-k}$\n",
    "\n",
    "À partir de la version *Python 3.8*, [on pourra remplacer](https://docs.python.org/3/library/math.html#math.comb) les 3 premières lignes par\n",
    "`from math import comb`\n",
    "\n",
    "> `comb(n, k)` calcule le coefficient binomial $\\binom n k$."
   ]
  },
  {
   "cell_type": "code",
   "execution_count": 15,
   "metadata": {},
   "outputs": [
    {
     "data": {
      "image/png": "[encoded data removed]",
      "text/plain": [
       "<Figure size 432x288 with 1 Axes>"
      ]
     },
     "metadata": {
      "needs_background": "light"
     },
     "output_type": "display_data"
    }
   ],
   "source": [
    "from math import factorial\n",
    "def comb(n, k):\n",
    "    return factorial(n) // factorial(k) // factorial(n-k)\n",
    "\n",
    "plt.plot([comb(n, k) * p**k * (1-p)**(n-k) for k in range(0, 40)], \"ro\")\n",
    "plt.show()"
   ]
  },
  {
   "cell_type": "markdown",
   "metadata": {},
   "source": [
    "Sur l'exemple suivant, on plaque les deux graphiques, et on peut modifier les paramètres.\n",
    "\n",
    "## Conclusion"
   ]
  },
  {
   "cell_type": "code",
   "execution_count": 1,
   "metadata": {},
   "outputs": [
    {
     "data": {
      "image/png": "[encoded data removed]",
      "text/plain": [
       "<Figure size 432x288 with 1 Axes>"
      ]
     },
     "metadata": {
      "needs_background": "light"
     },
     "output_type": "display_data"
    }
   ],
   "source": [
    "# indépendant de tout ce qui précède ; tout est redéfini, parfois réécrit avec un autre style\n",
    "\n",
    "%matplotlib inline\n",
    "import matplotlib.pyplot as plt\n",
    "from random import random\n",
    "from math import sqrt, factorial # , comb # à partir de Python 3.8\n",
    "def comb(n, k): return factorial(n) // factorial(k) // factorial(n-k)\n",
    "\n",
    "def simulation_schéma(p, n):\n",
    "    \"Retourne le nombre de succès dans un schéma de Bernoulli de paramètres p et n\"\n",
    "    # réécriture avec un style fonctionnel\n",
    "    return sum(1 for _ in range(n) if random() < p)\n",
    "\n",
    "\n",
    "#####  valeurs à modifier pour d'autres tests\n",
    "p = 0.1\n",
    "n = 500\n",
    "nb_rep_schem = 10000\n",
    "hw = 3 # demi-largeur en sigma pour l'intervalle\n",
    "\n",
    "##### fin des modifications à faire\n",
    "\n",
    "\n",
    "\n",
    "résultats = [simulation_schéma(p, n) for test in range(nb_rep_schem)]\n",
    "\n",
    "mean = n * p  # espérance\n",
    "variance = n * p * (1-p)\n",
    "sigma = sqrt(variance)\n",
    "\n",
    "minI = int(mean - hw * sigma)\n",
    "maxI = int(mean + hw * sigma)\n",
    "\n",
    "plt.plot(range(minI, maxI), [comb(n, k) * p**k * (1-p)**(n-k) for k in range(minI, maxI)], \"ro\")\n",
    "plt.hist(résultats, range = (minI, maxI), bins = maxI - minI, density=True, align=\"left\")\n",
    "plt.xlabel(\"Nombre de succès\")\n",
    "plt.ylabel(\"Fréquence\")\n",
    "plt.title(\"Comparaison statistique - probabilité\")\n",
    "k = int(mean)\n",
    "pXk = comb(n, k) * p**k * (1-p)**(n-k)\n",
    "plt.text(minI, pXk*.8, f\"$p={p}, n={n}$\")\n",
    "plt.show()"
   ]
  },
  {
   "cell_type": "code",
   "execution_count": null,
   "metadata": {},
   "outputs": [],
   "source": []
  }
 ],
 "metadata": {
  "kernelspec": {
   "display_name": "Python 3",
   "language": "python",
   "name": "python3"
  },
  "language_info": {
   "codemirror_mode": {
    "name": "ipython",
    "version": 3
   },
   "file_extension": ".py",
   "mimetype": "text/x-python",
   "name": "python",
   "nbconvert_exporter": "python",
   "pygments_lexer": "ipython3",
   "version": "3.7.3"
  }
 },
 "nbformat": 4,
 "nbformat_minor": 4
}
