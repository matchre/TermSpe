{
  "cells": [
    {
      "cell_type": "markdown",
      "source": [
        "#  Surréservation et profit p363 **correction**\n"
      ],
      "metadata": {
        "nteract": {
          "transient": {
            "deleting": false
          }
        }
      }
    },
    {
      "cell_type": "markdown",
      "source": [
        "vOTRE NOM\n",
        "TELECHARGEZ PUIS POSTEZ A TINYURL.COM/MRCHRETIEN "
      ],
      "metadata": {
        "nteract": {
          "transient": {
            "deleting": false
          }
        }
      }
    },
    {
      "cell_type": "markdown",
      "source": [
        "L’avion considéré peut contenir 124 passagers. Chaque passager se présente à l’embarquement, indépendamment des autres passagers, avec une probabilité égale à 0,91. Le nombre de billets vendus par la compagnie aérienne est noté n. Cet entier est supérieur ou égal à 124.\n",
        "\n",
        "L’entreprise cherche ici à optimiser ses profits. Chaque client qui se présente et qui peut embarquer rapporte 100 € à la compagnie aérienne. En revanche, chaque client qui se présente mais qui se voit refuser la possibilité de monter à bord coûte 150 € à la compagnie aérienne. Un client qui ne se présente pas peut se faire rembourser en partie son billet et permet un profit de 30 € à la compagnie aérienne."
      ],
      "metadata": {
        "nteract": {
          "transient": {
            "deleting": false
          }
        }
      }
    },
    {
      "cell_type": "markdown",
      "source": [
        "1. compléter les fonctions avionProfit et simulations.\n"
      ],
      "metadata": {
        "nteract": {
          "transient": {
            "deleting": false
          }
        }
      }
    },
    {
      "cell_type": "code",
      "source": [
        "from random import random\n",
        " \n",
        "def passagerPresent():\n",
        "    # Renvoie 1 si le passager se présente à l'embarquement et 0 sinon\n",
        "    if random() <= 0.91:\n",
        "        return 1\n",
        "    else:\n",
        "        return 0\n",
        "\n",
        "def avionProfit(n):\n",
        "    # Renvoie le profit pour un avion, pour n billets vendus\n",
        "    profit = 0\n",
        "    passagers = 0\n",
        "    for passager in range(n):\n",
        "        if not(passagerPresent()):\n",
        "            profit = profit + 30\n",
        "        else:\n",
        "            if (passagers < 124):\n",
        "                profit = profit + 100\n",
        "                passagers = passagers + 1\n",
        "            else:\n",
        "                profit = profit - 150\n",
        "    return profit\n",
        "\n",
        "def simulations(nbSimulations, n):\n",
        "    # Renvoie le profit moyen pour nbSimulations avions avec chacun n billets vendus\n",
        "    profitMoyen = 0\n",
        "    for avion in range(nbSimulations):\n",
        "        profitMoyen = profitMoyen + avionProfit(n)\n",
        "    return profitMoyen/nbSimulations\n",
        " \n",
        "def optimisation():\n",
        "    # Nombre optimal de billets à vendre pour optimiser le profit moyen par avion\n",
        "    nombreBilletsVendus = 100\n",
        "    nombreOptimalBilletsVendus = 100\n",
        "    profit = 0\n",
        "    profitOptimal = 0\n",
        "    while (profit == profitOptimal and nombreBilletsVendus <= 248):\n",
        "        nombreBilletsVendus = nombreBilletsVendus + 1\n",
        "        profit = simulations(1000, nombreBilletsVendus)\n",
        "        if (profit > profitOptimal):\n",
        "            nombreOptimalBilletsVendus = nombreBilletsVendus\n",
        "            profitOptimal = profit\n",
        "    return nombreOptimalBilletsVendus\n",
        "\n",
        "print(\"Estimation du profit moyen par avion lorsque n = 130 : \", avionProfit(130))\n",
        "\n",
        "print(\"Estimation du nombre de billets à vendre pour maximiser le profit : \", optimisation())\n"
      ],
      "outputs": [
        {
          "output_type": "stream",
          "name": "stdout",
          "text": [
            "Estimation du profit moyen par avion lorsque n = 130 :  12160\n",
            "Estimation du nombre de billets à vendre pour maximiser le profit :  135\n"
          ]
        }
      ],
      "execution_count": 1,
      "metadata": {
        "collapsed": true,
        "jupyter": {
          "source_hidden": false,
          "outputs_hidden": false
        },
        "nteract": {
          "transient": {
            "deleting": false
          }
        },
        "execution": {
          "iopub.status.busy": "2020-11-22T21:35:35.748Z",
          "iopub.execute_input": "2020-11-22T21:35:35.758Z",
          "iopub.status.idle": "2020-11-22T21:35:37.654Z",
          "shell.execute_reply": "2020-11-22T21:35:37.664Z"
        }
      }
    },
    {
      "cell_type": "markdown",
      "source": [
        "2. Déterminer une valeur approchée du profit moyen par avion lorsque le nombre de billets vendus est n=130."
      ],
      "metadata": {
        "nteract": {
          "transient": {
            "deleting": false
          }
        }
      }
    },
    {
      "cell_type": "markdown",
      "source": [
        "**Lorsque n = 130, le profit moyen est d’environ 12170 euros par avion.**"
      ],
      "metadata": {
        "nteract": {
          "transient": {
            "deleting": false
          }
        }
      }
    },
    {
      "cell_type": "markdown",
      "source": [
        "3. Réaliser plusieurs tests et conjecturer le nombre idéal de billets à proposer à la vente.\n",
        "\n",
        "\n"
      ],
      "metadata": {
        "nteract": {
          "transient": {
            "deleting": false
          }
        }
      }
    },
    {
      "cell_type": "markdown",
      "source": [
        "** On peut estimer que le nombre idéal de billets à vendre se situe entre 133 et 138.**"
      ],
      "metadata": {
        "nteract": {
          "transient": {
            "deleting": false
          }
        }
      }
    },
    {
      "cell_type": "markdown",
      "source": [
        "4. Déterminer le nombre de billets à vendre pour maximiser le profit, sachant que le maximum de billets à vendre est 140.\n"
      ],
      "metadata": {
        "nteract": {
          "transient": {
            "deleting": false
          }
        }
      }
    },
    {
      "cell_type": "markdown",
      "source": [
        " **En faisant des tests plus poussés, on trouve que le nombre idéal de billets à vendre\n",
        "est 135.**"
      ],
      "metadata": {
        "nteract": {
          "transient": {
            "deleting": false
          }
        }
      }
    },
    {
      "cell_type": "markdown",
      "source": [
        "bONUS1:On suppose que le nombre de billets vendus maximise le profit. Calculer ce profit."
      ],
      "metadata": {
        "nteract": {
          "transient": {
            "deleting": false
          }
        }
      }
    },
    {
      "cell_type": "markdown",
      "source": [
        "On suppose dans cette question que n = 135 billets ont été vendus. Soit G la\n",
        "variable aléatoire donnant le profit de la compagnie aérienne. \n",
        "\n",
        "On a alors E(X) =0.91 × 135 = 122.85. \n",
        "\n",
        "Si X $<=$ 124, alors G = 100X + 30(n − X) = 70X + 4 050.\n",
        "\n",
        "D’après le chapitre 13, on a alors E(G) = 70E(X) + 4 050 = 12 649; 50.\n",
        "\n",
        "Si X > 124, certains clients ne peuvent pas embarquer donc G = 100×124+ 30(n−\n",
        "X) − 150(X − 124) = −180X + 35 050.\n",
        "\n",
        "On a alors E(G) = −180E(X) + 35 050 = 12 937."
      ],
      "metadata": {
        "nteract": {
          "transient": {
            "deleting": false
          }
        }
      }
    },
    {
      "cell_type": "markdown",
      "source": [
        "bONUS2. En utilisant la méthode de surréservation décrite, quel est le gain réalisé en comparaison à une compagnie qui ne pratiquerait pas la surréservation mais qui ne rembourserait pas les billets ?"
      ],
      "metadata": {
        "nteract": {
          "transient": {
            "deleting": false
          }
        }
      }
    },
    {
      "cell_type": "markdown",
      "source": [
        "Une entreprise qui ne pratiquerait pas la surréservation vendrait 124 billets. \n",
        "\n",
        "Comme les billets ne sont pas remboursés, chaque client rapporte, présent ou non, 100 euros.\n",
        "\n",
        "Le profit associé à chaque vol est alors 12 400 euros.\n",
        "\n",
        "La pratique de la surréservation permet à la compagnie de faire un profit légèrement supérieur, et permet de soigner l’image de la société, en permettant des remboursements aux clients non présents,\n",
        "et en compensant financièrement les clients ne pouvant embarquer."
      ],
      "metadata": {
        "nteract": {
          "transient": {
            "deleting": false
          }
        }
      }
    }
  ],
  "metadata": {
    "kernel_info": {
      "name": "python3"
    },
    "language_info": {
      "name": "python",
      "version": "3.7.0",
      "mimetype": "text/x-python",
      "codemirror_mode": {
        "name": "ipython",
        "version": 3
      },
      "pygments_lexer": "ipython3",
      "nbconvert_exporter": "python",
      "file_extension": ".py"
    },
    "kernelspec": {
      "argv": [
        "python",
        "-m",
        "ipykernel_launcher",
        "-f",
        "{connection_file}"
      ],
      "display_name": "Python 3",
      "language": "python",
      "name": "python3"
    },
    "nteract": {
      "version": "0.26.0"
    }
  },
  "nbformat": 4,
  "nbformat_minor": 0
}