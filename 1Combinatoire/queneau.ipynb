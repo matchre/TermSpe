{
  "cells": [
    {
      "cell_type": "markdown",
      "source": [
        "**1er essai** la fontion *perm* crée la permutation de 1 à n,\n",
        "\n",
        "**2e essai** :la fontion *perm1* crée la permutation de 0 à-1 n-1 ce qui sera utile pour la suite pour utiliser les outils python de la bibliothèque sympy"
      ],
      "metadata": {
        "nteract": {
          "transient": {
            "deleting": false
          }
        }
      }
    },
    {
      "cell_type": "code",
      "source": [
        "\n",
        "def perm(n):\n",
        "    L=[]\n",
        "    for i in range(1,n+1):\n",
        "        if (i%2)==0:\n",
        "            L.append(int(i/2))\n",
        "        else:\n",
        "            L.append(int(n-(i-1)/2))\n",
        "    return L\n",
        "            \n",
        "def perm1(n):\n",
        "    L=[]\n",
        "    for i in range(1,n+1):\n",
        "        if (i%2)==0:\n",
        "            L.append(int(i/2-1))\n",
        "        else:\n",
        "            L.append(int(n-1-(i-1)/2))\n",
        "    return L\n",
        "            \n",
        "perm1(6)\n",
        "for i in range(1,10):\n",
        "    print(perm(i),perm1(i))"
      ],
      "outputs": [
        {
          "output_type": "stream",
          "name": "stdout",
          "text": [
            "[1] [0]\n",
            "[2, 1] [1, 0]\n",
            "[3, 1, 2] [2, 0, 1]\n",
            "[4, 1, 3, 2] [3, 0, 2, 1]\n",
            "[5, 1, 4, 2, 3] [4, 0, 3, 1, 2]\n",
            "[6, 1, 5, 2, 4, 3] [5, 0, 4, 1, 3, 2]\n",
            "[7, 1, 6, 2, 5, 3, 4] [6, 0, 5, 1, 4, 2, 3]\n",
            "[8, 1, 7, 2, 6, 3, 5, 4] [7, 0, 6, 1, 5, 2, 4, 3]\n",
            "[9, 1, 8, 2, 7, 3, 6, 4, 5] [8, 0, 7, 1, 6, 2, 5, 3, 4]\n"
          ]
        }
      ],
      "execution_count": 21,
      "metadata": {
        "trusted": true,
        "scrolled": true,
        "execution": {
          "iopub.status.busy": "2022-03-31T10:59:21.114Z",
          "iopub.execute_input": "2022-03-31T10:59:21.138Z",
          "iopub.status.idle": "2022-03-31T10:59:21.155Z",
          "shell.execute_reply": "2022-03-31T10:59:21.164Z"
        }
      }
    },
    {
      "cell_type": "markdown",
      "source": [
        "pour chaque permutation on va voir si elle se décompose *\"en sous cycles\"*,\n",
        "\n",
        "si oui l'ordre ne sera pas égal à la taille n de la permutation \n",
        "\n",
        "et on n'aura pas à faire à un nombre de Queneau"
      ],
      "metadata": {
        "nteract": {
          "transient": {
            "deleting": false
          }
        }
      }
    },
    {
      "cell_type": "code",
      "source": [
        "from sympy.combinatorics import Permutation\n",
        "for i in range(2,10):\n",
        "  p1 = Permutation(perm1(i))\n",
        "  if p1.order()==i:\n",
        "    alors=\"est un nb de queneau\"\n",
        "  else:\n",
        "    alors=\"n'est pas un nb de queneau\"\n",
        "  Permutation.print_cyclic = False\n",
        "  print(p1)\n",
        "  Permutation.print_cyclic = True # le nombre qui n'apparait pas, est fixe..\n",
        "  print(p1,i,alors,\"\\n\")"
      ],
      "outputs": [
        {
          "output_type": "stream",
          "name": "stdout",
          "text": [
            "Permutation([1, 0])\n",
            "(0 1) 2 est un nb de queneau \n",
            "\n",
            "Permutation([2, 0, 1])\n",
            "(0 2 1) 3 est un nb de queneau \n",
            "\n",
            "Permutation([3, 0, 2, 1])\n",
            "(0 3 1) 4 n'est pas un nb de queneau \n",
            "\n",
            "Permutation([4, 0, 3, 1, 2])\n",
            "(0 4 2 3 1) 5 est un nb de queneau \n",
            "\n",
            "Permutation([5, 0, 4, 1, 3, 2])\n",
            "(0 5 2 4 3 1) 6 est un nb de queneau \n",
            "\n",
            "Permutation([6, 0, 5, 1, 4, 2, 3])\n",
            "(0 6 3 1)(2 5) 7 n'est pas un nb de queneau \n",
            "\n",
            "Permutation([7, 0, 6, 1, 5, 2, 4, 3])\n",
            "(0 7 3 1)(2 6 4 5) 8 n'est pas un nb de queneau \n",
            "\n",
            "Permutation([8, 0, 7, 1, 6, 2, 5, 3, 4])\n",
            "(0 8 4 6 5 2 7 3 1) 9 est un nb de queneau \n",
            "\n"
          ]
        }
      ],
      "execution_count": 26,
      "metadata": {
        "trusted": true,
        "execution": {
          "iopub.status.busy": "2022-03-31T11:10:28.015Z",
          "iopub.execute_input": "2022-03-31T11:10:28.036Z",
          "iopub.status.idle": "2022-03-31T11:10:28.057Z",
          "shell.execute_reply": "2022-03-31T11:10:28.099Z"
        }
      }
    },
    {
      "cell_type": "markdown",
      "source": [
        "https://docs.sympy.org/latest/modules/combinatorics/permutations.html "
      ],
      "metadata": {}
    }
  ],
  "metadata": {
    "kernelspec": {
      "name": "python3",
      "display_name": "Python 3",
      "language": "python"
    },
    "language_info": {
      "name": "python",
      "version": "3.8.7",
      "mimetype": "text/x-python",
      "codemirror_mode": {
        "name": "ipython",
        "version": 3
      },
      "pygments_lexer": "ipython3",
      "nbconvert_exporter": "python",
      "file_extension": ".py"
    },
    "nteract": {
      "version": "0.28.0"
    }
  },
  "nbformat": 4,
  "nbformat_minor": 2
}